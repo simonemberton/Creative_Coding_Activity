{
  "nbformat": 4,
  "nbformat_minor": 0,
  "metadata": {
    "colab": {
      "name": "Classification_Week1.ipynb",
      "provenance": [],
      "collapsed_sections": [],
      "authorship_tag": "ABX9TyNUs3jsr1Ui7HnBtf+ma+8d",
      "include_colab_link": true
    },
    "kernelspec": {
      "name": "python3",
      "display_name": "Python 3"
    }
  },
  "cells": [
    {
      "cell_type": "markdown",
      "metadata": {
        "id": "view-in-github",
        "colab_type": "text"
      },
      "source": [
        "<a href=\"https://colab.research.google.com/github/simonemberton/Creative_Coding_Activity/blob/master/Classification_Week1.ipynb\" target=\"_parent\"><img src=\"https://colab.research.google.com/assets/colab-badge.svg\" alt=\"Open In Colab\"/></a>"
      ]
    },
    {
      "cell_type": "markdown",
      "metadata": {
        "id": "Jtg2iVbL1EX5"
      },
      "source": [
        "If you're going to be using Google's Colaboratory for training your deep learning models.  I suggest you go there (https://colab.research.google.com/) and create a new notebook.  Notebooks can be saved in Google Drive or GitHub and also downloaded to be run locally.  As you can see I've made a new repository in GitHub called AI_for_CT and saved it there.\n",
        "\n",
        "Week 1's task was to come up with an idea for a creative classification task and start putting together a dataset.  The creative task that I've set myself is to learn the subjective aesthetic quality of underwater images.  I aim to do this by training a classification network on underwater images and their corresponding labels of aesthetic quality.  This quality rating is found through subjective evaluation experiments where human participants are asked to rate the images on a scale of 1-10 where 1 = “really unattractive”, and 10 =“really attractive”.\n",
        "\n",
        "An AI-based tool that could assess the subjective quality of an underwater image could be useful in a range of applications such as an smart assistant for underwater photographers, allowing users to search for stock footage images via aesthetic value or an AI-based image critic or judge of a underwater photography competition.\n",
        "\n",
        "I plan to use the 'Aesthetic value of the Great Barrier Reef' dataset (https://eatlas.org.au/data/uuid/a1d03d57-ab56-4032-b121-32e981524270) for my initial experiments (NB you are expected to collate your own image datasets for the coursework).  This dataset contains 2500 underwater images taken on the Great Barrier Reef and each image has a Mean Opinion Score (MOS) on a scale of 1-10 (NB You are not expected to make a dataset this large, but you can pool your efforts and work in small groups to build a dataset - this is the only part of the assignment that can be done together)."
      ]
    }
  ]
}