{
  "nbformat": 4,
  "nbformat_minor": 0,
  "metadata": {
    "colab": {
      "name": "Classification_Week1.ipynb",
      "provenance": [],
      "collapsed_sections": [],
      "authorship_tag": "ABX9TyOGU63AjkisPFRY8ly1UJIb",
      "include_colab_link": true
    },
    "kernelspec": {
      "name": "python3",
      "display_name": "Python 3"
    }
  },
  "cells": [
    {
      "cell_type": "markdown",
      "metadata": {
        "id": "view-in-github",
        "colab_type": "text"
      },
      "source": [
        "<a href=\"https://colab.research.google.com/github/simonemberton/Creative_Coding_Activity/blob/master/Classification_Week1.ipynb\" target=\"_parent\"><img src=\"https://colab.research.google.com/assets/colab-badge.svg\" alt=\"Open In Colab\"/></a>"
      ]
    },
    {
      "cell_type": "markdown",
      "metadata": {
        "id": "Jtg2iVbL1EX5"
      },
      "source": [
        "If you're going to be using Google's Colaboratory for training your deep learning models.  I suggest you go there (https://colab.research.google.com/) and create a new notebook.  Notebooks can be saved in Google Drive or GitHub and also downloaded to be run locally.  As you can see I've made a new repository in GitHub called AI_for_CT and saved it there.\n",
        "\n",
        "Week 1's task was to come up with an idea for a creative classification task and start putting together a dataset.  The creative task that I've set myself is to subjective image quality assessment, to learn the subjective aesthetic quality of images.  This will be achieved by training a classification network on images and corresponding labels of the human ratings for each image on a scale of 1-5.\n",
        "\n",
        "An AI-based tool that could assess the subjective quality of an image could be useful in a range of applications such as an smart assistant for photographers, allowing to search for stock footage images via subjective attributes, AI-based image critic or judge of a photography competition.\n",
        "\n",
        "I plan to use the KonIQ-10k dataset (http://database.mmsp-kn.de/koniq-10k-database.html) for my initial experiments (NB you are expected to collate your own image datasets for the coursework).  This dataset contains 10,073 quality scored images, where each image has a Mean Opinion Score (MOS) on a scale of 1-5. (NB You are not expected to make a dataset this large).\n",
        "\n",
        "\n",
        "\n"
      ]
    }
  ]
}